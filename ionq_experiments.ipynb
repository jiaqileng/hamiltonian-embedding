{
 "cells": [
  {
   "cell_type": "code",
   "execution_count": 1,
   "metadata": {},
   "outputs": [
    {
     "data": {
      "text/plain": [
       "True"
      ]
     },
     "execution_count": 1,
     "metadata": {},
     "output_type": "execute_result"
    }
   ],
   "source": [
    "import numpy as np\n",
    "import matplotlib.pyplot as plt\n",
    "\n",
    "from scipy.sparse.linalg import expm_multiply, expm\n",
    "from scipy.sparse import diags\n",
    "from utils import *\n",
    "from ionq_circuit_utils import *\n",
    "\n",
    "from os import getenv\n",
    "from os.path import join\n",
    "import json\n",
    "import hashlib\n",
    "\n",
    "import networkx as nx\n",
    "from random import shuffle, seed\n",
    "\n",
    "import requests\n",
    "\n",
    "from braket.circuits import Circuit\n",
    "from braket.devices import LocalSimulator\n",
    "from braket.aws import AwsDevice, AwsQuantumTask\n",
    "\n",
    "from qiskit import QuantumCircuit, transpile\n",
    "from qiskit.transpiler import TranspilerError\n",
    "from qiskit.dagcircuit import DAGCircuit\n",
    "from qiskit.circuit import EquivalenceLibrary, Parameter\n",
    "from qiskit.circuit.library import RXXGate, RYYGate\n",
    "from resource_estimate_utils import get_gate_counts\n",
    "from dotenv import load_dotenv\n",
    "load_dotenv()"
   ]
  },
  {
   "cell_type": "code",
   "execution_count": 2,
   "metadata": {},
   "outputs": [],
   "source": [
    "IONQ_API_KEY = getenv('IONQ_API_KEY')"
   ]
  },
  {
   "cell_type": "markdown",
   "metadata": {},
   "source": [
    "# Helper functions"
   ]
  },
  {
   "cell_type": "code",
   "execution_count": 3,
   "metadata": {},
   "outputs": [],
   "source": [
    "# Sends job and returns job_id\n",
    "def send_job(job):\n",
    "    headers = {\n",
    "        \"Authorization\": f\"apiKey {IONQ_API_KEY}\",\n",
    "        \"Content-Type\": \"application/json\"\n",
    "    }\n",
    "    req = requests.post(\"https://api.ionq.co/v0.3/jobs\", json=job, headers=headers)\n",
    "    job_id = json.loads(req.content)['id']\n",
    "    return job_id"
   ]
  },
  {
   "cell_type": "code",
   "execution_count": 4,
   "metadata": {},
   "outputs": [],
   "source": [
    "def get_ionq_single_job_result(job_id, codewords, use_error_mitigation=False):\n",
    "    # Get job\n",
    "    print(\"Getting job:\", job_id)\n",
    "\n",
    "    headers = {\n",
    "        \"Authorization\": f\"apiKey {IONQ_API_KEY}\"\n",
    "    }\n",
    "\n",
    "    req = requests.get(f\"https://api.ionq.co/v0.3/jobs/{job_id}\", headers=headers)\n",
    "    \n",
    "\n",
    "    status = json.loads(req.content)['status']\n",
    "    print(f\"Job status: {status}\")\n",
    "    if status == \"completed\":\n",
    "        \n",
    "        headers = {\n",
    "            \"Authorization\": f\"apiKey {IONQ_API_KEY}\"\n",
    "        }\n",
    "        if use_error_mitigation:\n",
    "            params = {\"sharpen\": \"true\"} # plural voting aggregation\n",
    "        else:\n",
    "            params = {\"sharpen\": \"false\"}\n",
    "        req = requests.get(f\"https://api.ionq.co/v0.3/jobs/{job_id}/results\", headers=headers, params=params)\n",
    "        results = json.loads(req.content)\n",
    "        if \"error\" in results.keys():\n",
    "            raise AttributeError(results[\"message\"])\n",
    "        else:\n",
    "            freq = np.zeros(len(codewords))\n",
    "            for i in range(len(codewords)):\n",
    "                if str(codewords[i]) in results.keys():\n",
    "                    freq[i] = results[str(codewords[i])]\n",
    "            return freq\n",
    "    else:\n",
    "        raise FileNotFoundError(\"Job not completed\")\n",
    "    \n",
    "def get_results(job_ids_path, num_time_points, codewords, use_error_mitigation=False):\n",
    "    with open(job_ids_path, \"r\") as f:\n",
    "        job_ids = json.load(f)\n",
    "        f.close()\n",
    "\n",
    "    freq = np.zeros((num_time_points, len(codewords)))\n",
    "    for i, job_id in enumerate(job_ids):\n",
    "\n",
    "        freq[i] = get_ionq_single_job_result(job_id, codewords, use_error_mitigation)\n",
    "\n",
    "    return freq\n",
    "\n",
    "def cancel_job(job_id):\n",
    "    print(\"Cancelling job:\", job_id)\n",
    "\n",
    "    headers = {\n",
    "        \"Authorization\": f\"apiKey {IONQ_API_KEY}\"\n",
    "    }\n",
    "    r = requests.put(f\"https://api.ionq.co/v0.3/jobs/{job_id}/status/cancel\", headers=headers)\n",
    "    return r"
   ]
  },
  {
   "cell_type": "markdown",
   "metadata": {},
   "source": [
    "Quantum walk circuit"
   ]
  },
  {
   "cell_type": "code",
   "execution_count": 5,
   "metadata": {},
   "outputs": [],
   "source": [
    "def get_qw_circuit(graph, t, r):\n",
    "\n",
    "    # Returns Trotterized circuit for quantum walk on graph using one-hot embedding\n",
    "\n",
    "    line_graph = nx.line_graph(graph)\n",
    "    coloring = nx.coloring.greedy_color(line_graph, strategy=\"independent_set\")\n",
    "\n",
    "    coloring_grouped = {}\n",
    "    for edge in coloring.keys():\n",
    "        if coloring[edge] in coloring_grouped:\n",
    "            coloring_grouped[coloring[edge]].append(edge)\n",
    "        else:\n",
    "            coloring_grouped[coloring[edge]] = [edge]\n",
    "\n",
    "    num_colors = len(coloring_grouped.keys())\n",
    "\n",
    "    instructions = []\n",
    "\n",
    "    # Use randomized first order Trotter\n",
    "    dt = t / r\n",
    "    \n",
    "    np.random.seed(int(t * r))\n",
    "    for _ in range(r):\n",
    "        \n",
    "        if np.random.rand() < 0.5:\n",
    "            for color in np.arange(0, num_colors):\n",
    "                edge_list = coloring_grouped[color]\n",
    "                \n",
    "                for i,j in edge_list:\n",
    "                    instructions.append(get_rxx(dt, targets=[int(i),int(j)]))\n",
    "                    instructions.append(get_ryy(dt, targets=[int(i),int(j)]))\n",
    "        else:\n",
    "            for color in np.arange(0, num_colors)[::-1]:\n",
    "                edge_list = coloring_grouped[color]\n",
    "                \n",
    "                for i,j in edge_list:\n",
    "                    instructions.append(get_ryy(dt, targets=[int(i),int(j)]))\n",
    "                    instructions.append(get_rxx(dt, targets=[int(i),int(j)]))\n",
    "\n",
    "    return instructions"
   ]
  },
  {
   "cell_type": "markdown",
   "metadata": {},
   "source": [
    "Spatial search circuit"
   ]
  },
  {
   "cell_type": "code",
   "execution_count": 741,
   "metadata": {},
   "outputs": [],
   "source": [
    "def get_hadamard_layer_braket(n, dimension):\n",
    "    circuit = Circuit()\n",
    "    for i in range(n * dimension):\n",
    "        circuit.h(i)\n",
    "    return circuit\n",
    "\n",
    "def get_spatial_search_circuit(N, lamb, gamma, t, r, encoding):\n",
    "    n = num_qubits_per_dim(N, encoding)\n",
    "    circuit = Circuit()\n",
    "    \n",
    "    if encoding == \"unary\" or encoding == \"antiferromagnetic\":\n",
    "        circuit.add_circuit(get_hadamard_layer_braket(n, dimension=2))\n",
    "\n",
    "        for _ in range(r):\n",
    "        \n",
    "            # X rotations (between hadamard)\n",
    "            for i in range(2 * n):\n",
    "                circuit.rz(i, - gamma * t / r)\n",
    "\n",
    "            # penalty term\n",
    "            for i in range(2):\n",
    "                circuit.rx(i * n, 2 * lamb * t / r)\n",
    "                if encoding == \"unary\":\n",
    "                    circuit.rx((i + 1) * n - 1, - 2 * lamb * t / r)\n",
    "                if encoding == \"antiferromagnetic\":\n",
    "                    circuit.rx((i + 1) * n - 1, (-1) ** (n) * 2 * lamb * t / r)\n",
    "                \n",
    "                for j in np.arange(i * n, (i + 1) * n - 1):\n",
    "                    if encoding == \"unary\":\n",
    "                        circuit.xx(j, j+1, -2 * lamb * t / r)\n",
    "                    elif encoding == \"antiferromagnetic\":\n",
    "                        circuit.xx(j, j+1, 2 * lamb * t / r)\n",
    "\n",
    "            # oracle term\n",
    "            circuit.xx(n-1, n, (t / r) / 2)\n",
    "            circuit.rx(n-1, (t / r) / 2)\n",
    "            circuit.rx(n, -(t / r) / 2)\n",
    "\n",
    "            # laplacian correction term\n",
    "            for i in range(2):\n",
    "                circuit.rx(i * n, -gamma * t / r)\n",
    "                if encoding == \"unary\":\n",
    "                    circuit.rx((i + 1) * n - 1, gamma * t / r)\n",
    "                elif encoding == \"antiferromagnetic\":\n",
    "                    circuit.rx((i + 1) * n - 1, (-1) ** (n+1) * gamma * t / r)\n",
    "                \n",
    "            # X rotations (between hadamard)\n",
    "            for i in range(2 * n):\n",
    "                circuit.rz(i, - gamma * t / r)\n",
    "        \n",
    "        circuit.add_circuit(get_hadamard_layer_braket(n, dimension=2))\n",
    "\n",
    "        return circuit\n",
    "    else:\n",
    "        raise ValueError(\"Encoding not supported\")"
   ]
  },
  {
   "cell_type": "markdown",
   "metadata": {},
   "source": [
    "Truncated Fock space method circuit"
   ]
  },
  {
   "cell_type": "code",
   "execution_count": 107,
   "metadata": {},
   "outputs": [],
   "source": [
    "def get_fock_space_method_circuit(N, a, b, t, r, encoding):\n",
    "    # Real-space Schrodinger equation with potential f(x) = 0.5 * ax^2 + bx\n",
    "\n",
    "    n = num_qubits_per_dim(N, encoding=encoding)\n",
    "    dt = t / r\n",
    "    \n",
    "    instructions = []\n",
    "\n",
    "    np.random.seed(int(t * r))\n",
    "\n",
    "    if encoding == \"one-hot\":\n",
    "        for _ in range(r):\n",
    "            if np.random.rand() < 0.5:\n",
    "                # Diagonal part of 0.5 * \\hat{p}^2 and 0.5 * a\\hat{x}^2\n",
    "                for i in range(n):\n",
    "                    instructions.append(get_rz(-0.5 * (1 + a) * (i + 1/2) * dt, i))\n",
    "\n",
    "                # Off-diagonal part of 0.5 * \\hat{p}^2 and off-diagonal part of 0.5 * a\\hat{x} ^ 2\n",
    "                for i in range(n-2):\n",
    "                    instructions.append(get_rxx(0.25 * (a * np.sqrt((i + 1) * (i + 2)) - np.sqrt((i + 1) * (i + 2))) * dt, [i, i + 2]))\n",
    "                    instructions.append(get_ryy(0.25 * (a * np.sqrt((i + 1) * (i + 2)) - np.sqrt((i + 1) * (i + 2))) * dt, [i, i + 2]))\n",
    "                # b \\hat{x}\n",
    "                for i in range(n-1):\n",
    "                    instructions.append(get_rxx(b * np.sqrt((i + 1) / 2) * dt, [i, i + 1]))\n",
    "                    instructions.append(get_ryy(b * np.sqrt((i + 1) / 2) * dt, [i, i + 1]))\n",
    "            else:\n",
    "                # b \\hat{x}\n",
    "                for i in range(n-1)[::-1]:\n",
    "                    instructions.append(get_rxx(b * np.sqrt((i + 1) / 2) * dt, [i, i + 1]))\n",
    "                    instructions.append(get_ryy(b * np.sqrt((i + 1) / 2) * dt, [i, i + 1]))\n",
    "\n",
    "                # Off-diagonal part of 0.5 * \\hat{p}^2 and off-diagonal part of 0.5 * a\\hat{x} ^ 2\n",
    "                for i in range(n-2)[::-1]:\n",
    "                    instructions.append(get_rxx(0.25 * (a * np.sqrt((i + 1) * (i + 2)) - np.sqrt((i + 1) * (i + 2))) * dt, [i, i + 2]))\n",
    "                    instructions.append(get_ryy(0.25 * (a * np.sqrt((i + 1) * (i + 2)) - np.sqrt((i + 1) * (i + 2))) * dt, [i, i + 2]))\n",
    "\n",
    "                # Diagonal part of 0.5 * \\hat{p}^2 and 0.5 * a\\hat{x}^2\n",
    "                for i in range(n)[::-1]:\n",
    "                    instructions.append(get_rz(-0.5 * (1 + a) * (i + 1/2) * dt, i))\n",
    "\n",
    "    else:\n",
    "        raise ValueError(\"Encoding not supported\")\n",
    "\n",
    "    return instructions\n"
   ]
  },
  {
   "cell_type": "code",
   "execution_count": 108,
   "metadata": {},
   "outputs": [],
   "source": [
    "def run_qw(N, dimension, n, encoding, bitstrings, num_time_points, graph, t_vals, task_name, \n",
    "           vertex, r, num_shots, device, save_dir, use_real_machine, qpu_job_ids_filename):\n",
    "    assert encoding == \"one-hot\"\n",
    "\n",
    "    job_ids = []\n",
    "    task_arns = []\n",
    "\n",
    "    # unnormalized probabilities\n",
    "    sim_freq = np.zeros((num_time_points, N))\n",
    "    dimension = 1\n",
    "\n",
    "    for i, t in enumerate(t_vals):\n",
    "        \n",
    "        print(f\"Unitless time: {t : 0.3f}\")\n",
    "\n",
    "        # Construct the circuit\n",
    "        instructions = []\n",
    "\n",
    "        # Initial state preparation: start from root node\n",
    "        instructions.append(get_rx(np.pi, vertex))\n",
    "        if t > 0:\n",
    "            instructions += get_qw_circuit(graph, t, r)\n",
    "\n",
    "        if use_real_machine:\n",
    "\n",
    "            # Create the job json and save it\n",
    "            job = get_ionq_job_json(task_name, N, dimension, num_shots, device, encoding, instructions, use_native_gates=True)\n",
    "            \n",
    "            print(f\"Saving in {save_dir}\")\n",
    "            with open(join(save_dir, f\"job_{i}.json\"), \"w\") as f:\n",
    "                json.dump(job, f, default=int)\n",
    "\n",
    "            # Send the job and get the job id\n",
    "            job_id = send_job(job)\n",
    "            print(\"Job id:\", job_id)\n",
    "            job_ids.append(job_id)\n",
    "\n",
    "        else:\n",
    "            \n",
    "            native_instructions, qubit_phase = get_native_circuit(n, instructions)\n",
    "            circuit = get_braket_native_circuit(native_instructions)\n",
    "            for j in range(n * dimension):\n",
    "                circuit.rz(j, -qubit_phase[j] * (2 * np.pi))\n",
    "\n",
    "            circuit.amplitude(state=bitstrings)\n",
    "\n",
    "            # Run on simulator\n",
    "            task = device.run(circuit)\n",
    "\n",
    "            if device.name == \"SV1\":\n",
    "                # Save the data\n",
    "                metadata = task.metadata()\n",
    "                task_arn = metadata['quantumTaskArn']\n",
    "                task_arns.append(task_arn)\n",
    "                print(f\"ARN: {task_arn}\")\n",
    "            else:\n",
    "                amplitudes = task.result().values[0]\n",
    "                for j in range(N ** dimension):\n",
    "                    sim_freq[i,j] = np.abs(amplitudes[bitstrings[j]]) ** 2\n",
    "\n",
    "    if use_real_machine:\n",
    "        print(f\"Saving IonQ job ids as {qpu_job_ids_filename}\")\n",
    "        with open(join(save_dir, qpu_job_ids_filename), \"w\") as f:\n",
    "            json.dump(job_ids, f)\n",
    "            f.close()\n",
    "    else:\n",
    "        return sim_freq"
   ]
  },
  {
   "cell_type": "code",
   "execution_count": 9,
   "metadata": {},
   "outputs": [],
   "source": [
    "def run_ss(N, dimension, encoding, bitstrings, num_time_points, t_vals, task_name, \n",
    "           gamma, lamb, r, num_shots, device, save_dir, use_real_machine, \n",
    "           qpu_job_ids_filename, sim_task_arns_filename,\n",
    "           use_native_gates = True, use_qiskit_transpiler = True):\n",
    "    n = num_qubits_per_dim(N, encoding)\n",
    "\n",
    "    job_ids = []\n",
    "    task_arns = []\n",
    "\n",
    "    # unnormalized probabilities\n",
    "    sim_freq = np.zeros((num_time_points, N ** dimension))\n",
    "\n",
    "    amplitudes_input = np.ones(N)\n",
    "    amplitudes_input /= np.linalg.norm(amplitudes_input)\n",
    "\n",
    "    for i, t in enumerate(t_vals):\n",
    "        \n",
    "        print(f\"Unitless time: {t : 0.3f}\")\n",
    "\n",
    "        # use braket simulator and get amplitudes of state vector\n",
    "        circuit = state_prep_braket(N, dimension, amplitudes_input, encoding)\n",
    "        circuit.add_circuit(get_spatial_search_circuit(N, lamb, gamma, t, r, encoding))\n",
    "\n",
    "        if use_real_machine:\n",
    "            instructions = get_circuit_from_braket(circuit)\n",
    "\n",
    "            if use_qiskit_transpiler:\n",
    "                transpiled_circuit = transpile(get_qiskit_circuit(n * dimension, instructions),\n",
    "                                            basis_gates=[\"rx\", \"ry\", \"rz\", \"rxx\", \"ryy\"],\n",
    "                                            optimization_level=3)\n",
    "                instructions = get_circuit_from_qiskit(transpiled_circuit)\n",
    "            \n",
    "            # Create the job json and save it\n",
    "            job = get_ionq_job_json(task_name, N, dimension, num_shots, device, encoding, instructions, use_native_gates)\n",
    "            \n",
    "            print(f\"Saving in {save_dir}\")\n",
    "            with open(join(save_dir, f\"job_{i}.json\"), \"w\") as f:\n",
    "                json.dump(job, f, default=int)\n",
    "\n",
    "            # Send the job and get the job id\n",
    "            job_id = send_job(job)\n",
    "            print(\"Job id:\", job_id)\n",
    "            job_ids.append(job_id)\n",
    "        else:\n",
    "            \n",
    "            circuit.amplitude(state=bitstrings)\n",
    "\n",
    "            # Run on simulator\n",
    "            task = device.run(circuit)\n",
    "\n",
    "            if device.name == \"SV1\":\n",
    "                # Save the data\n",
    "                metadata = task.metadata()\n",
    "                task_arn = metadata['quantumTaskArn']\n",
    "                task_arns.append(task_arn)\n",
    "                print(f\"ARN: {task_arn}\")\n",
    "            else:\n",
    "                amplitudes_res = task.result().values[0]\n",
    "                for j in range(N ** dimension):\n",
    "                    sim_freq[i,j] = np.abs(amplitudes_res[bitstrings[j]]) ** 2\n",
    "\n",
    "    if use_real_machine:\n",
    "        print(\"Saving IonQ job ids\")\n",
    "        with open(join(save_dir, qpu_job_ids_filename), \"w\") as f:\n",
    "            json.dump(job_ids, f)\n",
    "            f.close()\n",
    "    else:\n",
    "        if device.name == \"SV1\":\n",
    "            print(\"Saving task arns (Braket state vector simulator)\")\n",
    "            with open(join(save_dir, sim_task_arns_filename), \"w\") as f:\n",
    "                json.dump(task_arns, f)\n",
    "                f.close()\n",
    "        else:\n",
    "            return sim_freq"
   ]
  },
  {
   "cell_type": "code",
   "execution_count": 702,
   "metadata": {},
   "outputs": [],
   "source": [
    "def run_fock_space_method(N, dimension, encoding, num_time_points, t_vals, task_name,\n",
    "           r, a, b, num_shots, device, save_dir, use_real_machine, \n",
    "           qpu_job_ids_filename_z, qpu_job_ids_filename_x):\n",
    "\n",
    "    assert dimension == 1, \"Expected dimension is 1\"\n",
    "    assert encoding == \"one-hot\"\n",
    "    \n",
    "    n = num_qubits_per_dim(N, encoding)\n",
    "\n",
    "    if use_real_machine:\n",
    "        # Job ids for circuits without Hadamard layer\n",
    "        job_ids_z = [[] for _ in range(num_time_points)]\n",
    "        # Job ids for circuits with Hadamard layer\n",
    "        job_ids_x = [[] for _ in range(num_time_points)]\n",
    "    else:\n",
    "        distributions_z = []\n",
    "        distributions_x = []\n",
    "\n",
    "    for i, t in enumerate(t_vals):\n",
    "        \n",
    "        print(f\"Unitless time: {t : 0.3f}\")\n",
    "\n",
    "        if not use_real_machine:\n",
    "            distribution_z = []\n",
    "            distribution_x = []\n",
    "\n",
    "        # Construct the circuit\n",
    "        instructions = []\n",
    "\n",
    "        # Initial state preparation: start from root node\n",
    "        instructions.append(get_rx(np.pi, 0))\n",
    "        if t > 0:\n",
    "            instructions += get_fock_space_method_circuit(N, a, b, t, r, encoding)\n",
    "        \n",
    "        # Send the circuits without Hadamard layer\n",
    "        if use_real_machine:\n",
    "            \n",
    "            # Create the job json and save it\n",
    "            job = get_ionq_job_json(task_name, N, dimension, num_shots, device, encoding, instructions, use_native_gates=True)\n",
    "            \n",
    "            with open(join(save_dir, f\"t_{i}\", f\"job_z.json\"), \"w\") as f:\n",
    "                json.dump(job, f, default=int)\n",
    "\n",
    "            # Send the job and get the job id\n",
    "            job_id = send_job(job)\n",
    "            print(\"Job id:\", job_id)\n",
    "            job_ids_z[i].append(job_id)\n",
    "        else:\n",
    "\n",
    "            native_instructions, qubit_phase = get_native_circuit(n, instructions)\n",
    "            circuit = get_braket_native_circuit(native_instructions)\n",
    "            for j in range(n * dimension):\n",
    "                circuit.rz(j, -qubit_phase[j] * (2 * np.pi))\n",
    "\n",
    "            # Get amplitudes\n",
    "            bitstrings = [np.binary_repr(j, N)[::-1] for j in range(2 ** N)]\n",
    "            circuit.amplitude(state=bitstrings)\n",
    "            \n",
    "            # Run on simulator\n",
    "            task = device.run(circuit)\n",
    "            amplitudes_res = task.result().values[0]\n",
    "            distribution_z.append(np.abs(list(amplitudes_res.values())) ** 2)\n",
    "\n",
    "            # dist = np.zeros(2 ** N)\n",
    "            # for measurement in task.result().measurements:\n",
    "            #     dist[bitstring_to_int(measurement)] += 1\n",
    "            # dist /= num_shots\n",
    "            # distribution_z.append(dist)\n",
    "\n",
    "        # Measure in X basis\n",
    "        instructions += get_hadamard_layer(n, dimension)\n",
    "\n",
    "        if use_real_machine:\n",
    "            \n",
    "            # Create the job json and save it\n",
    "            job = get_ionq_job_json(task_name, N, dimension, num_shots, device, encoding, instructions)\n",
    "            \n",
    "            with open(join(save_dir, f\"t_{i}\", f\"job_x.json\"), \"w\") as f:\n",
    "                json.dump(job, f, default=int)\n",
    "            # Send the job and get the job id\n",
    "            job_id = send_job(job)\n",
    "            print(\"Job id:\", job_id)\n",
    "            job_ids_x[i].append(job_id)\n",
    "\n",
    "        else:\n",
    "            native_instructions, qubit_phase = get_native_circuit(n, instructions)\n",
    "            circuit = get_braket_native_circuit(native_instructions)\n",
    "            for j in range(n * dimension):\n",
    "                circuit.rz(j, -qubit_phase[j] * (2 * np.pi))\n",
    "\n",
    "            # Get amplitudes\n",
    "            bitstrings = [np.binary_repr(j, N)[::-1] for j in range(2 ** N)]\n",
    "            circuit.amplitude(state=bitstrings)\n",
    "\n",
    "            # Run on simulator\n",
    "            task = device.run(circuit)\n",
    "            amplitudes_res = task.result().values[0]\n",
    "            distribution_x.append(np.abs(list(amplitudes_res.values())) ** 2)\n",
    "\n",
    "            # dist = np.zeros(2 ** N)\n",
    "            # for measurement in task.result().measurements:\n",
    "            #     dist[bitstring_to_int(measurement)] += 1\n",
    "            # dist /= num_shots\n",
    "            # distribution_x.append(dist)\n",
    "\n",
    "\n",
    "        if not use_real_machine:\n",
    "            distributions_z.append(np.average(distribution_z, axis=0))\n",
    "            distributions_x.append(np.average(distribution_x, axis=0))\n",
    "        else:\n",
    "            print(\"Saving IonQ job ids\")\n",
    "            with open(join(save_dir, f\"t_{i}\", qpu_job_ids_filename_z), \"w\") as f:\n",
    "                json.dump(job_ids_z[i], f)\n",
    "                f.close()\n",
    "\n",
    "            with open(join(save_dir, f\"t_{i}\", qpu_job_ids_filename_x), \"w\") as f:\n",
    "                json.dump(job_ids_x[i], f)\n",
    "                f.close()\n",
    "\n",
    "    if not use_real_machine:\n",
    "        return distributions_z, distributions_x"
   ]
  },
  {
   "cell_type": "code",
   "execution_count": 703,
   "metadata": {},
   "outputs": [],
   "source": [
    "def tv_dist(freq_1, freq_2):\n",
    "    num_time_points = freq_1.shape[0]\n",
    "    return [np.sum(np.abs(freq_1[i] - freq_2[i])) / 2 for i in range(num_time_points)]\n",
    "\n",
    "def tv_dist_err(freq_true, freq_sampled, num_samples):\n",
    "    assert num_samples > 1\n",
    "    vec = np.zeros(len(freq_true))\n",
    "    for i in range(len(freq_true)):\n",
    "        if freq_sampled[i] > 0:\n",
    "            vec[i] = np.maximum(0, 1 - freq_true[i] / freq_sampled[i])\n",
    "\n",
    "    # TV distance is vec @ freq_2\n",
    "    return np.sqrt(freq_sampled @ (vec - 0.5 * np.sum(np.abs(freq_true - freq_sampled))) ** 2 / (num_samples - 1))"
   ]
  },
  {
   "cell_type": "markdown",
   "metadata": {},
   "source": [
    "# Quantum walk on glued trees graph"
   ]
  },
  {
   "cell_type": "code",
   "execution_count": 72,
   "metadata": {},
   "outputs": [
    {
     "name": "stdout",
     "output_type": "stream",
     "text": [
      "experiment_data/glued_tree\n",
      "Using StateVectorSimulator\n"
     ]
    }
   ],
   "source": [
    "DATA_DIR = \"experiment_data\"\n",
    "TASK_DIR = \"glued_tree\"\n",
    "\n",
    "CURR_DIR = DATA_DIR\n",
    "check_and_make_dir(CURR_DIR)\n",
    "CURR_DIR = join(CURR_DIR, TASK_DIR)\n",
    "check_and_make_dir(CURR_DIR)\n",
    "\n",
    "print(CURR_DIR)\n",
    "\n",
    "\n",
    "use_real_machine = False\n",
    "if use_real_machine:\n",
    "    device = \"qpu.aria-1\"\n",
    "    print(\"Device:\", device)\n",
    "else:\n",
    "    device = LocalSimulator()\n",
    "\n",
    "    # device = AwsDevice(\"arn:aws:braket:::device/quantum-simulator/amazon/sv1\")\n",
    "\n",
    "    print(f\"Using {device.name}\")"
   ]
  },
  {
   "cell_type": "code",
   "execution_count": 68,
   "metadata": {},
   "outputs": [],
   "source": [
    "def get_glued_tree(n):\n",
    "    seed(0)\n",
    "    # Two binary trees of height n (2^(n+1) - 1 nodes each glued together\n",
    "    num_nodes_per_binary_tree = 2 ** (n+1) - 1\n",
    "    num_nodes = 2 * num_nodes_per_binary_tree\n",
    "    graph = nx.Graph()\n",
    "\n",
    "    # Leaves\n",
    "    leaves_first = []\n",
    "    leaves_second = []\n",
    "    for i in range(2 ** n):\n",
    "        leaves_first.append(2 ** n - 1 + i)\n",
    "        leaves_second.append(num_nodes - 1 - (2 ** n - 1) - i)\n",
    "\n",
    "    for i in np.arange(1, num_nodes_per_binary_tree):\n",
    "\n",
    "        # First binary tree\n",
    "        graph.add_edge(int((i-1)/2), int(i))\n",
    "\n",
    "        # Second binary tree\n",
    "        graph.add_edge(int(num_nodes - 1 - int((i-1)/2)), int(num_nodes - 1 - i))\n",
    "\n",
    "    # Glue the two trees together\n",
    "    # Shuffle the leaves to get a random cycle\n",
    "    shuffle(leaves_first)\n",
    "    shuffle(leaves_second)\n",
    "\n",
    "    for i in range(2 ** n):\n",
    "        graph.add_edge(int(leaves_first[i]), int(leaves_second[i]))\n",
    "        graph.add_edge(int(leaves_second[i]), int(leaves_first[(i+1) % (2 ** n)]))\n",
    "\n",
    "    return graph"
   ]
  },
  {
   "cell_type": "code",
   "execution_count": 69,
   "metadata": {},
   "outputs": [
    {
     "name": "stdout",
     "output_type": "stream",
     "text": [
      "Nodes in graph: 14\n",
      "Save dir: experiment_data/glued_tree/597ce272d24248d19773c8239506ff24\n",
      "Two qubit gate count: 160\n"
     ]
    },
    {
     "data": {
      "image/png": "[encoded data removed]",
      "text/plain": [
       "<Figure size 640x480 with 1 Axes>"
      ]
     },
     "metadata": {},
     "output_type": "display_data"
    }
   ],
   "source": [
    "glued_tree_height = 2\n",
    "N = 2 * (2 ** (glued_tree_height + 1) - 1)\n",
    "print(f\"Nodes in graph: {N}\")\n",
    "\n",
    "dimension = 1\n",
    "encoding = \"one-hot\"\n",
    "n = num_qubits_per_dim(N, encoding=encoding)\n",
    "codewords = get_codewords_1d(n, encoding, periodic=False)\n",
    "bitstrings = get_bitstrings(N, dimension, encoding)\n",
    "\n",
    "T = 2\n",
    "r = 4\n",
    "\n",
    "num_time_points = 11\n",
    "t_vals = np.linspace(0, T, num_time_points)\n",
    "\n",
    "num_shots = 200\n",
    "vertex = 0\n",
    "\n",
    "use_error_mitigation = False\n",
    "\n",
    "if use_error_mitigation:\n",
    "    assert num_shots >= 500, \"Number of shots should be at least 500\"\n",
    "\n",
    "experiment_info = {\n",
    "    \"N\": N,\n",
    "    \"dimension\": dimension,\n",
    "    \"encoding\": encoding,\n",
    "    \"T\": T,\n",
    "    \"num_time_points\": num_time_points,\n",
    "    \"r\": r,\n",
    "    \"num_shots\": num_shots,\n",
    "    \"vertex\": vertex,\n",
    "    \"use_error_mitigation\": use_error_mitigation,\n",
    "}\n",
    "\n",
    "hash_str = hashlib.md5(json.dumps(experiment_info).encode(\"utf-8\")).hexdigest()\n",
    "SAVE_DIR = join(CURR_DIR, hash_str)\n",
    "check_and_make_dir(SAVE_DIR)\n",
    "print(\"Save dir:\", SAVE_DIR)\n",
    "\n",
    "with open(join(SAVE_DIR, \"experiment_info.json\"), \"w\") as f:\n",
    "    json.dump(experiment_info, f)\n",
    "    f.close()\n",
    "    \n",
    "graph = get_glued_tree(glued_tree_height)\n",
    "\n",
    "nx.draw(graph, with_labels=True)\n",
    "A = nx.adjacency_matrix(graph, nodelist=sorted(graph.nodes()))\n",
    "\n",
    "print(\"Two qubit gate count:\", graph.size() * r * 2)\n",
    "\n",
    "qpu_job_ids_filename = f'job_ids_qpu.json'"
   ]
  },
  {
   "cell_type": "markdown",
   "metadata": {},
   "source": [
    "Gate count"
   ]
  },
  {
   "cell_type": "code",
   "execution_count": 70,
   "metadata": {},
   "outputs": [
    {
     "name": "stdout",
     "output_type": "stream",
     "text": [
      "One qubit gates: 1\n",
      "Two qubit gates: 160\n"
     ]
    }
   ],
   "source": [
    "# Construct the circuit\n",
    "instructions = []\n",
    "\n",
    "# Initial state preparation: start from root node\n",
    "instructions.append(get_rx(np.pi, vertex))\n",
    "instructions += get_qw_circuit(graph, T, r)\n",
    "native_instructions, qubit_phase = get_native_circuit(n, instructions)\n"
   ]
  },
  {
   "cell_type": "markdown",
   "metadata": {},
   "source": [
    "Submit tasks"
   ]
  },
  {
   "cell_type": "code",
   "execution_count": 71,
   "metadata": {},
   "outputs": [
    {
     "name": "stdout",
     "output_type": "stream",
     "text": [
      "Unitless time:  0.000\n",
      "One qubit gates: 1\n",
      "Two qubit gates: 0\n",
      "Saving in experiment_data/glued_tree/597ce272d24248d19773c8239506ff24\n",
      "Job id: cdb76027-ae66-49ad-8edc-6cc30eba77fc\n",
      "Unitless time:  0.200\n",
      "One qubit gates: 1\n",
      "Two qubit gates: 160\n",
      "Saving in experiment_data/glued_tree/597ce272d24248d19773c8239506ff24\n",
      "Job id: 4114a50d-28b4-43c1-a1fc-749f4c75b279\n",
      "Unitless time:  0.400\n",
      "One qubit gates: 1\n",
      "Two qubit gates: 160\n",
      "Saving in experiment_data/glued_tree/597ce272d24248d19773c8239506ff24\n",
      "Job id: 74c57de3-d721-48f9-9108-eba89f8968ad\n",
      "Unitless time:  0.600\n",
      "One qubit gates: 1\n",
      "Two qubit gates: 160\n",
      "Saving in experiment_data/glued_tree/597ce272d24248d19773c8239506ff24\n",
      "Job id: ad20df45-7c1e-4093-a62f-a42858015210\n",
      "Unitless time:  0.800\n",
      "One qubit gates: 1\n",
      "Two qubit gates: 160\n",
      "Saving in experiment_data/glued_tree/597ce272d24248d19773c8239506ff24\n",
      "Job id: d391685d-705b-4303-afd7-1986c9bfe702\n",
      "Unitless time:  1.000\n",
      "One qubit gates: 1\n",
      "Two qubit gates: 160\n",
      "Saving in experiment_data/glued_tree/597ce272d24248d19773c8239506ff24\n",
      "Job id: e55b6408-a856-46a1-94ee-36ef83b8dd24\n",
      "Unitless time:  1.200\n",
      "One qubit gates: 1\n",
      "Two qubit gates: 160\n",
      "Saving in experiment_data/glued_tree/597ce272d24248d19773c8239506ff24\n",
      "Job id: c85cd818-dbcf-49af-8978-a58fa6a7c04c\n",
      "Unitless time:  1.400\n",
      "One qubit gates: 1\n",
      "Two qubit gates: 160\n",
      "Saving in experiment_data/glued_tree/597ce272d24248d19773c8239506ff24\n",
      "Job id: b7c8e345-46c3-4065-9901-d285deef598e\n",
      "Unitless time:  1.600\n",
      "One qubit gates: 1\n",
      "Two qubit gates: 160\n",
      "Saving in experiment_data/glued_tree/597ce272d24248d19773c8239506ff24\n",
      "Job id: 8b2e52a1-867d-420b-87c1-33df057ffca3\n",
      "Unitless time:  1.800\n",
      "One qubit gates: 1\n",
      "Two qubit gates: 160\n",
      "Saving in experiment_data/glued_tree/597ce272d24248d19773c8239506ff24\n",
      "Job id: 88ebde0c-44d8-4dfc-88ae-f09212a16524\n",
      "Unitless time:  2.000\n",
      "One qubit gates: 1\n",
      "Two qubit gates: 160\n",
      "Saving in experiment_data/glued_tree/597ce272d24248d19773c8239506ff24\n",
      "Job id: 36135da5-5937-405e-b08d-36932682e987\n",
      "Saving IonQ job ids as job_ids_qpu.json\n"
     ]
    }
   ],
   "source": [
    "if use_real_machine:\n",
    "    run_qw(N, dimension, n, encoding, bitstrings, num_time_points, graph, t_vals, TASK_DIR, vertex, r, num_shots, device, SAVE_DIR, use_real_machine, qpu_job_ids_filename)\n",
    "else:\n",
    "    sim_freq = run_qw(N, dimension, n, encoding, bitstrings, num_time_points, graph, t_vals, TASK_DIR, vertex, r, num_shots, device, SAVE_DIR, use_real_machine, qpu_job_ids_filename)"
   ]
  },
  {
   "cell_type": "markdown",
   "metadata": {},
   "source": [
    "Get data from completed tasks"
   ]
  },
  {
   "cell_type": "code",
   "execution_count": 26,
   "metadata": {},
   "outputs": [
    {
     "name": "stdout",
     "output_type": "stream",
     "text": [
      "Getting job: 275caa0c-3d96-4958-9223-34a6164e9ba1\n",
      "Job status: completed\n",
      "Getting job: 67ad1bec-13ad-426a-be7c-945f4be58379\n",
      "Job status: completed\n",
      "Getting job: f2ec74d9-f9cf-44ea-a54d-8d3db63db30e\n",
      "Job status: completed\n",
      "Getting job: d3011c53-332f-4a75-b371-72aec5ab0543\n",
      "Job status: completed\n",
      "Getting job: 61c0a041-b56e-45b0-9a9c-f2cb7be6d4c7\n",
      "Job status: completed\n",
      "Getting job: 7e1dd468-0e6c-4ae0-abdd-d47667e3fd7d\n",
      "Job status: completed\n",
      "Getting job: 8aceb34b-e21a-4f1c-b3f8-5601b9fc294e\n",
      "Job status: completed\n",
      "Getting job: 19b1be02-7290-4e4e-805b-8de2326ffb63\n",
      "Job status: completed\n",
      "Getting job: d7f55b0d-d394-45e0-bcd5-06bf62aa57a3\n",
      "Job status: completed\n",
      "Getting job: 1da81c1d-376d-49b2-b1d4-3f8055cdf007\n",
      "Job status: completed\n",
      "Getting job: 7d923855-6868-40a8-8977-bc6ef8452271\n",
      "Job status: completed\n",
      "Getting job: 31194f6a-0ba2-4046-8bbc-9d4dedc133ce\n",
      "Job status: completed\n",
      "Getting job: 33777f01-55dd-43f6-8276-ed87eb997793\n",
      "Job status: completed\n",
      "Getting job: f02d1505-5000-4478-bc20-6f2a8fce0ff1\n",
      "Job status: completed\n",
      "Getting job: c832d018-f9e1-4142-83ec-17cbcf81b69d\n",
      "Job status: completed\n",
      "Getting job: e5a3255b-a6d4-4ae4-9971-d1f977bcd123\n",
      "Job status: completed\n",
      "Getting job: 63d24579-2193-49cd-9a68-397b87408241\n",
      "Job status: completed\n",
      "Getting job: e78e64c1-fa68-4c61-9374-92e52d3ef29d\n",
      "Job status: completed\n",
      "Getting job: 1db2e553-3651-41e7-ac35-d6533a42bb5f\n",
      "Job status: completed\n",
      "Getting job: 2c2304f5-9216-4c22-9901-e781f5a7e73d\n",
      "Job status: completed\n",
      "Getting job: bbd5f9fd-d65b-483f-b2b1-8b483aeaf618\n",
      "Job status: completed\n",
      "Getting job: 4e752636-fe6c-462e-91cc-b1f844c03639\n",
      "Job status: completed\n",
      "Getting job: 265cc661-1bb3-40cc-ab5d-292af8343cf8\n",
      "Job status: completed\n",
      "Getting job: 5e4cddb5-6037-4203-8119-ab6dbf66dee6\n",
      "Job status: completed\n",
      "Getting job: 733e4045-53c0-4bbd-baa5-2ef67bfa251c\n",
      "Job status: completed\n"
     ]
    }
   ],
   "source": [
    "ionq_freq = get_results(join(SAVE_DIR, qpu_job_ids_filename), num_time_points, codewords, use_error_mitigation)"
   ]
  },
  {
   "cell_type": "markdown",
   "metadata": {},
   "source": [
    "Post processing and figures"
   ]
  },
  {
   "cell_type": "code",
   "execution_count": 27,
   "metadata": {},
   "outputs": [],
   "source": [
    "# ionq_freq_normalized = np.zeros_like(ionq_freq)\n",
    "# for i in range(num_time_points):\n",
    "#     if np.sum(ionq_freq[i]) > 0:\n",
    "#         ionq_freq_normalized[i] = ionq_freq[i] / np.sum(ionq_freq[i])\n",
    "\n",
    "# num_samples_subspace_ionq = np.sum(ionq_freq, axis=1) * num_shots"
   ]
  },
  {
   "cell_type": "code",
   "execution_count": 55,
   "metadata": {},
   "outputs": [],
   "source": [
    "# Ground truth\n",
    "psi_0 = np.zeros(N)\n",
    "psi_0[vertex] = 1\n",
    "\n",
    "psi = expm_multiply(-1j * A, psi_0, start=0, stop=T, num=num_time_points)\n",
    "ideal_dist = np.abs(psi) ** 2\n",
    "\n",
    "def get_glued_tree_distance_vec(glued_tree_height):\n",
    "    \n",
    "    distance_vec = np.zeros(N)\n",
    "    for i in range(2 ** (glued_tree_height + 1) - 1):\n",
    "        distance_vec[i] = int(np.log2(i + 1))\n",
    "    for i in np.arange(2 ** (glued_tree_height + 1) - 1, N):\n",
    "        distance_vec[i] = 2 * (glued_tree_height + 1) - 1 - int(np.log2(N - i))\n",
    "\n",
    "    return distance_vec\n",
    "\n",
    "\n",
    "distance_vec = get_glued_tree_distance_vec(glued_tree_height)\n",
    "\n",
    "# Compute propagation distance\n",
    "propagation_distance_ideal = ideal_dist @ distance_vec\n",
    "propagation_distance_sim = sim_freq @ distance_vec\n",
    "propagation_distance_ionq = ionq_freq @ distance_vec\n",
    "\n",
    "# Using unbiased sample variance to compute standard error\n",
    "# propagation_distance_ionq_err = np.array(\n",
    "#     [np.sqrt(ionq_freq_normalized[i] @ (distance_vec - propagation_distance_ionq[i]) ** 2 / (num_samples_subspace_ionq[i] - 1)) for i in range(num_time_points)]\n",
    "# )\n",
    "\n",
    "\n",
    "# valid_points_ionq = np.sum(ionq_freq, axis=1) > 0\n"
   ]
  },
  {
   "cell_type": "code",
   "execution_count": 56,
   "metadata": {},
   "outputs": [],
   "source": [
    "# np.savez(join(SAVE_DIR, \"data.npz\"), \n",
    "#          ideal_dist=ideal_dist,\n",
    "#          sim_freq_normalized=sim_freq_normalized,\n",
    "#          ionq_freq_normalized=ionq_freq_normalized,\n",
    "#          num_samples_subspace_ionq=num_samples_subspace_ionq)"
   ]
  },
  {
   "cell_type": "code",
   "execution_count": 58,
   "metadata": {},
   "outputs": [
    {
     "data": {
      "image/png": "[encoded data removed]",
      "text/plain": [
       "<Figure size 640x480 with 1 Axes>"
      ]
     },
     "metadata": {},
     "output_type": "display_data"
    }
   ],
   "source": [
    "plt.plot(t_vals, propagation_distance_ideal, '-o', label=\"Ideal\")\n",
    "plt.plot(t_vals, propagation_distance_sim, '-o', label=\"Simulator\", alpha=0.7)\n",
    "# plt.errorbar(t_vals, propagation_distance_ionq, propagation_distance_ionq_err, fmt='-o', label=\"IonQ\")\n",
    "plt.xlabel(\"Unitless time\")\n",
    "plt.ylabel(\"Propagation distance\")\n",
    "plt.title(\"Quantum walk on glued trees\")\n",
    "plt.legend()\n",
    "plt.show()"
   ]
  },
  {
   "cell_type": "code",
   "execution_count": 327,
   "metadata": {},
   "outputs": [],
   "source": [
    "distance_mat = np.zeros((2 * (glued_tree_height + 1), N))\n",
    "for i in range(N):\n",
    "    distance_mat[int(distance_vec[i]), i] = 1"
   ]
  },
  {
   "cell_type": "code",
   "execution_count": 328,
   "metadata": {},
   "outputs": [],
   "source": [
    "sim_freq_by_level = sim_freq @ distance_mat.T\n",
    "ideal_dist_by_level = ideal_dist @ distance_mat.T"
   ]
  },
  {
   "cell_type": "code",
   "execution_count": 329,
   "metadata": {},
   "outputs": [
    {
     "data": {
      "image/png": "[encoded data removed]",
      "text/plain": [
       "<Figure size 640x480 with 1 Axes>"
      ]
     },
     "metadata": {},
     "output_type": "display_data"
    }
   ],
   "source": [
    "i = 0\n",
    "plt.ylim(top=1)\n",
    "plt.bar(np.arange(sim_freq_by_level.shape[1])-0.2, sim_freq_by_level[i], width=0.4)\n",
    "plt.bar(np.arange(ideal_dist_by_level.shape[1]) + 0.2, ideal_dist_by_level[i], width=0.4)\n",
    "plt.show()"
   ]
  },
  {
   "cell_type": "code",
   "execution_count": 330,
   "metadata": {},
   "outputs": [
    {
     "data": {
      "image/png": "[encoded data removed]",
      "text/plain": [
       "<Figure size 600x500 with 3 Axes>"
      ]
     },
     "metadata": {},
     "output_type": "display_data"
    }
   ],
   "source": [
    "\n",
    "labels = [\"Ideal\", \"Simulator\"]#, \"IonQ\"]\n",
    "\n",
    "fig, axs = plt.subplots(1, len(labels), constrained_layout=True, facecolor=\"white\", figsize=(6,5))\n",
    "\n",
    "max_prob = max(np.max(ideal_dist), np.max(sim_freq))#, np.max(ionq_freq))\n",
    "im = axs[0].matshow(ideal_dist.T, vmin=0, vmax=max_prob)\n",
    "axs[1].matshow(sim_freq.T, vmin=0, vmax=max_prob)\n",
    "# axs[2].matshow(ionq_freq.T, vmin=0, vmax=max_prob)\n",
    "\n",
    "aspect = 5\n",
    "\n",
    "for i in range(len(labels)):\n",
    "    axs[i].set_aspect(aspect)\n",
    "    \n",
    "    axs[i].set_ylabel(\"Vertex\")\n",
    "    axs[i].set_yticks(np.arange(ideal_dist.shape[1])[::1])\n",
    "    axs[i].set_yticklabels(np.arange(ideal_dist.shape[1])[::1])\n",
    "    axs[i].set_title(labels[i])\n",
    "\n",
    "    axs[i].set_xticks(np.arange(ideal_dist.shape[0])[::6])\n",
    "    axs[i].set_xticklabels([str(round(float(label), 3)) for label in t_vals[::6]])\n",
    "\n",
    "fig.colorbar(im, ax=axs.ravel().tolist())\n",
    "fig.suptitle(\"Quantum walk on glued tree\")\n",
    "plt.savefig(join(\"figures\", f\"glued_tree_heatmap_{n}_qubits.png\"), facecolor=\"white\", bbox_inches='tight')\n",
    "plt.show()"
   ]
  },
  {
   "cell_type": "markdown",
   "metadata": {},
   "source": [
    "# Spatial search"
   ]
  },
  {
   "cell_type": "code",
   "execution_count": 748,
   "metadata": {},
   "outputs": [
    {
     "name": "stdout",
     "output_type": "stream",
     "text": [
      "experiment_data/spatial_search\n",
      "Using StateVectorSimulator\n"
     ]
    }
   ],
   "source": [
    "DATA_DIR = \"experiment_data\"\n",
    "TASK_DIR = \"spatial_search\"\n",
    "\n",
    "CURR_DIR = DATA_DIR\n",
    "check_and_make_dir(CURR_DIR)\n",
    "CURR_DIR = join(CURR_DIR, TASK_DIR)\n",
    "check_and_make_dir(CURR_DIR)\n",
    "\n",
    "print(CURR_DIR)\n",
    "\n",
    "use_real_machine = False\n",
    "if use_real_machine:\n",
    "    device = \"qpu.aria-1\"\n",
    "    print(\"Device:\", device)\n",
    "else:\n",
    "    device = LocalSimulator()\n",
    "\n",
    "    # device = AwsDevice(\"arn:aws:braket:::device/quantum-simulator/amazon/sv1\")\n",
    "\n",
    "    print(f\"Using {device.name}\")"
   ]
  },
  {
   "cell_type": "code",
   "execution_count": 749,
   "metadata": {},
   "outputs": [
    {
     "name": "stdout",
     "output_type": "stream",
     "text": [
      "Save dir: experiment_data/spatial_search/6a9bde3e0b59386416060380e77b431e\n"
     ]
    }
   ],
   "source": [
    "N = 5\n",
    "dimension = 2\n",
    "encoding = \"unary\"\n",
    "n = num_qubits_per_dim(N, encoding)\n",
    "codewords = get_codewords_2d(n, encoding, periodic=False)\n",
    "bitstrings = get_bitstrings(N, dimension, encoding)\n",
    "\n",
    "lamb = 2\n",
    "T = 6.0\n",
    "r = 12\n",
    "\n",
    "# lamb = 4 # N = 3\n",
    "# T = 6.0 # N = 3 (awaiting results on machine)\n",
    "# r = 18 # N = 3 (awaiting results on machine)\n",
    "\n",
    "# lamb = 4 # N = 4\n",
    "# r = 18 # N = 4\n",
    "\n",
    "# lamb = 4 # N = 5\n",
    "# r = 18 # N = 5\n",
    "\n",
    "num_time_points = 8\n",
    "t_vals = np.linspace(0, T, num_time_points)\n",
    "num_shots = 500\n",
    "\n",
    "\n",
    "use_native_gates = True\n",
    "use_qiskit_transpiler = True\n",
    "use_error_mitigation = True\n",
    "\n",
    "if use_error_mitigation:\n",
    "    assert num_shots >= 500, \"Number of shots should be at least 500\"\n",
    "\n",
    "experiment_info = {\n",
    "    \"N\": N,\n",
    "    \"dimension\": dimension,\n",
    "    \"encoding\": encoding,\n",
    "    \"T\": T,\n",
    "    \"num_time_points\": num_time_points,\n",
    "    \"lamb\": lamb,\n",
    "    \"r\": r,\n",
    "    \"num_shots\": num_shots,\n",
    "    \"use_native_gates\": use_native_gates,\n",
    "    \"use_qiskit_transpiler\": use_qiskit_transpiler,\n",
    "    \"use_error_mitigation\": use_error_mitigation\n",
    "}\n",
    "\n",
    "hash_str = hashlib.md5(json.dumps(experiment_info).encode(\"utf-8\")).hexdigest()\n",
    "SAVE_DIR = join(CURR_DIR, hash_str)\n",
    "check_and_make_dir(SAVE_DIR)\n",
    "\n",
    "print(\"Save dir:\", SAVE_DIR)\n",
    "\n",
    "with open(join(SAVE_DIR, \"experiment_info.json\"), \"w\") as f:\n",
    "    json.dump(experiment_info, f)\n",
    "    f.close()\n",
    "\n",
    "name = \"spatial_search\"\n",
    "qpu_job_ids_filename = f'job_ids_qpu.json'\n",
    "sim_task_arns_filename = f'task_arns_simulator.json'"
   ]
  },
  {
   "cell_type": "code",
   "execution_count": 750,
   "metadata": {},
   "outputs": [
    {
     "name": "stdout",
     "output_type": "stream",
     "text": [
      "gamma = 0.853563280105591\n"
     ]
    }
   ],
   "source": [
    "# Compute the optimal gamma\n",
    "L = get_laplacian_lattice(N, dimension)\n",
    "marked_vertex_1 = np.zeros(N)\n",
    "marked_vertex_1[0] = 1\n",
    "marked_vertex_2 = np.zeros(N)\n",
    "marked_vertex_2[N-1] = 1\n",
    "\n",
    "marked_vertex = np.kron(marked_vertex_2, marked_vertex_1)\n",
    "H_oracle = -csc_matrix(np.outer(marked_vertex, marked_vertex))\n",
    "# Sign is flipped here; this function minimizes the difference between the two largest eigenvalues of gamma * L + H_oracle\n",
    "gamma = scipy_get_optimal_gamma(L, -H_oracle, 0.3)\n",
    "print(f\"gamma = {gamma}\")"
   ]
  },
  {
   "cell_type": "code",
   "execution_count": 751,
   "metadata": {},
   "outputs": [
    {
     "name": "stdout",
     "output_type": "stream",
     "text": [
      "One qubit gates: 130\n",
      "Two qubit gates: 162\n"
     ]
    }
   ],
   "source": [
    "amplitudes_input = np.ones(N)\n",
    "amplitudes_input /= np.linalg.norm(amplitudes_input)\n",
    "circuit = state_prep_braket(N, dimension, amplitudes_input, encoding)\n",
    "circuit.add_circuit(get_spatial_search_circuit(N, lamb, gamma, T, r, encoding))\n",
    "\n",
    "instructions = get_circuit_from_braket(circuit)\n",
    "\n",
    "if use_qiskit_transpiler:\n",
    "    transpiled_circuit = transpile(get_qiskit_circuit(n * dimension, instructions),\n",
    "                                basis_gates=[\"rx\", \"ry\", \"rz\", \"rxx\", \"ryy\"],\n",
    "                                optimization_level=3)\n",
    "    instructions = get_circuit_from_qiskit(transpiled_circuit)\n",
    "\n",
    "job = get_ionq_job_json(\"\", N, dimension, num_shots, device, encoding, instructions, use_native_gates)"
   ]
  },
  {
   "cell_type": "markdown",
   "metadata": {},
   "source": [
    "Submit tasks"
   ]
  },
  {
   "cell_type": "code",
   "execution_count": 752,
   "metadata": {},
   "outputs": [
    {
     "name": "stdout",
     "output_type": "stream",
     "text": [
      "Unitless time:  0.000\n",
      "Unitless time:  0.857\n",
      "Unitless time:  1.714\n",
      "Unitless time:  2.571\n",
      "Unitless time:  3.429\n",
      "Unitless time:  4.286\n",
      "Unitless time:  5.143\n",
      "Unitless time:  6.000\n",
      "[1.         0.91486232 0.85562974 0.84389992 0.90107864 0.98147652\n",
      " 0.99063865 0.93943168]\n"
     ]
    }
   ],
   "source": [
    "if use_real_machine:\n",
    "    run_ss(N, dimension, encoding, bitstrings, num_time_points, t_vals, TASK_DIR, \n",
    "           gamma, lamb, r, num_shots, device, SAVE_DIR, use_real_machine, \n",
    "           qpu_job_ids_filename, sim_task_arns_filename,\n",
    "           use_native_gates=use_native_gates, \n",
    "           use_qiskit_transpiler=use_qiskit_transpiler)\n",
    "else:\n",
    "    sim_freq = run_ss(N, dimension, encoding, bitstrings, num_time_points, t_vals, TASK_DIR, \n",
    "           gamma, lamb, r, num_shots, device, SAVE_DIR, use_real_machine, \n",
    "           qpu_job_ids_filename, sim_task_arns_filename)\n",
    "    print(np.sum(sim_freq, axis=1))"
   ]
  },
  {
   "cell_type": "markdown",
   "metadata": {},
   "source": [
    "Get data from completed tasks"
   ]
  },
  {
   "cell_type": "code",
   "execution_count": 769,
   "metadata": {},
   "outputs": [
    {
     "name": "stdout",
     "output_type": "stream",
     "text": [
      "Getting job: d8f5ab5c-50bb-42f9-b92a-7a694845038b\n",
      "Job status: completed\n",
      "Getting job: e0bd762a-a6ff-4cc5-8d44-99359c2d6092\n",
      "Job status: completed\n",
      "Getting job: 8a7e451e-ec2a-4470-8850-defe6d3c80f9\n",
      "Job status: completed\n",
      "Getting job: 6b117bc8-0738-47c2-8dd0-7770a4d8da05\n",
      "Job status: completed\n",
      "Getting job: b8d1a97d-c24d-4375-bbe2-08dac32ef46d\n",
      "Job status: completed\n",
      "Getting job: 66688a53-2072-47fb-a58d-de6bedfb95cc\n",
      "Job status: completed\n",
      "Getting job: 9b39c292-923c-44b1-a56f-64b85c0958b9\n",
      "Job status: completed\n",
      "Getting job: f24e6548-5d9d-4071-91cf-52793b662672\n",
      "Job status: completed\n",
      "[0.906 0.772 0.744 0.646 0.482 0.598 0.496 0.358]\n"
     ]
    }
   ],
   "source": [
    "ionq_freq = get_results(join(SAVE_DIR, qpu_job_ids_filename), num_time_points, codewords, use_error_mitigation=False)\n",
    "print(np.sum(ionq_freq, axis=1))"
   ]
  },
  {
   "cell_type": "markdown",
   "metadata": {},
   "source": [
    "Post processing and figures"
   ]
  },
  {
   "cell_type": "code",
   "execution_count": 770,
   "metadata": {},
   "outputs": [],
   "source": [
    "# Ideal\n",
    "psi_0 = np.ones(N ** dimension, dtype=np.complex64)\n",
    "psi_0 /= np.linalg.norm(psi_0)\n",
    "\n",
    "H = -gamma * L + H_oracle\n",
    "num_time_points_ideal = 128\n",
    "psi = expm_multiply(-1j * H, psi_0, start=0, stop=T, num=num_time_points_ideal)\n",
    "ideal_dist = np.abs(psi) ** 2\n",
    "ideal_success_probability = ideal_dist[:, N ** dimension - N]"
   ]
  },
  {
   "cell_type": "code",
   "execution_count": 771,
   "metadata": {},
   "outputs": [],
   "source": [
    "sim_freq_normalized = np.zeros_like(sim_freq)\n",
    "for i in range(num_time_points):\n",
    "    if np.sum(sim_freq[i]) > 0:\n",
    "        sim_freq_normalized[i] = sim_freq[i] / np.sum(sim_freq[i])\n",
    "\n",
    "ionq_freq_normalized = np.zeros_like(ionq_freq)\n",
    "for i in range(num_time_points):\n",
    "    if np.sum(ionq_freq[i]) > 0:\n",
    "        ionq_freq_normalized[i] = ionq_freq[i] / np.sum(ionq_freq[i])\n",
    "\n",
    "num_samples_subspace_ionq = np.sum(ionq_freq, axis=1) * num_shots\n",
    "\n",
    "valid_points_sim = np.sum(sim_freq, axis=1) > 0\n",
    "valid_points_ionq = num_samples_subspace_ionq > 0\n",
    "\n",
    "success_prob_sim = sim_freq_normalized[:,-N]\n",
    "success_prob_ionq = ionq_freq_normalized[:,-N]\n",
    "err_ionq = np.sqrt(success_prob_ionq * (1 - success_prob_ionq) / (num_samples_subspace_ionq - 1))"
   ]
  },
  {
   "cell_type": "code",
   "execution_count": 773,
   "metadata": {},
   "outputs": [],
   "source": [
    "np.savez(join(SAVE_DIR, \"data.npz\"), \n",
    "         ideal_dist=ideal_dist,\n",
    "         sim_freq_normalized=sim_freq_normalized,\n",
    "         ionq_freq_normalized=ionq_freq_normalized,\n",
    "         num_samples_subspace_ionq=num_samples_subspace_ionq)"
   ]
  },
  {
   "cell_type": "code",
   "execution_count": 774,
   "metadata": {},
   "outputs": [
    {
     "data": {
      "image/png": "[encoded data removed]",
      "text/plain": [
       "<Figure size 480x480 with 2 Axes>"
      ]
     },
     "metadata": {},
     "output_type": "display_data"
    }
   ],
   "source": [
    "plt.matshow(ionq_freq_normalized[-1].reshape((N,N)))\n",
    "plt.colorbar()\n",
    "plt.show()"
   ]
  },
  {
   "cell_type": "code",
   "execution_count": 775,
   "metadata": {},
   "outputs": [
    {
     "data": {
      "image/png": "[encoded data removed]",
      "text/plain": [
       "<Figure size 640x480 with 1 Axes>"
      ]
     },
     "metadata": {},
     "output_type": "display_data"
    }
   ],
   "source": [
    "\n",
    "plt.title(f\"Spatial search on {N}x{N} lattice ({encoding}), averaging\")\n",
    "plt.plot(np.linspace(0, T, num_time_points_ideal), ideal_success_probability, label=\"Ideal\")\n",
    "plt.plot(t_vals, success_prob_sim, '-o', label=\"Simulator\")\n",
    "plt.errorbar(t_vals[valid_points_ionq], success_prob_ionq[valid_points_ionq], err_ionq, fmt='-o', label=\"IonQ\")\n",
    "plt.ylabel(\"Success probability\")\n",
    "plt.xlabel(\"Unitless time\")\n",
    "plt.legend()\n",
    "plt.show()"
   ]
  },
  {
   "cell_type": "code",
   "execution_count": 776,
   "metadata": {},
   "outputs": [
    {
     "data": {
      "image/png": "[encoded data removed]",
      "text/plain": [
       "<Figure size 640x480 with 1 Axes>"
      ]
     },
     "metadata": {},
     "output_type": "display_data"
    }
   ],
   "source": [
    "plt.plot(t_vals, np.sum(sim_freq, axis=1), '-o', label=\"Simulator\", color=\"#ff7f0e\")\n",
    "plt.errorbar(t_vals, np.sum(ionq_freq, axis=1), np.sqrt(np.sum(ionq_freq, axis=1) * (1 - np.sum(ionq_freq, axis=1)) / (num_shots - 1)), fmt='-o', label=\"IonQ\", color=\"#2ca02c\")\n",
    "plt.xlabel(\"Unitless time\")\n",
    "plt.ylabel(\"Relative frequency in encoding subspace\")\n",
    "plt.title(f\"Spatial search on {N}x{N} lattice ({encoding})\")\n",
    "plt.legend()\n",
    "plt.show()"
   ]
  },
  {
   "cell_type": "markdown",
   "metadata": {},
   "source": [
    "# Fock space method for real space dynamics"
   ]
  },
  {
   "cell_type": "code",
   "execution_count": 739,
   "metadata": {},
   "outputs": [
    {
     "name": "stdout",
     "output_type": "stream",
     "text": [
      "experiment_data/fock_space_method\n",
      "Using StateVectorSimulator\n"
     ]
    }
   ],
   "source": [
    "DATA_DIR = \"experiment_data\"\n",
    "TASK_DIR = \"fock_space_method\"\n",
    "\n",
    "CURR_DIR = DATA_DIR\n",
    "check_and_make_dir(CURR_DIR)\n",
    "CURR_DIR = join(CURR_DIR, TASK_DIR)\n",
    "check_and_make_dir(CURR_DIR)\n",
    "\n",
    "print(CURR_DIR)\n",
    "\n",
    "use_real_machine = False\n",
    "if use_real_machine:\n",
    "    device = \"qpu.aria-1\"\n",
    "    print(\"Device:\", device)\n",
    "else:\n",
    "    device = LocalSimulator()\n",
    "\n",
    "    print(f\"Using {device.name}\")"
   ]
  },
  {
   "cell_type": "code",
   "execution_count": 740,
   "metadata": {},
   "outputs": [
    {
     "name": "stdout",
     "output_type": "stream",
     "text": [
      "Save dir: experiment_data/fock_space_method/69ad1269c7c9270dd6dc3589f9169a25\n"
     ]
    }
   ],
   "source": [
    "N = 5\n",
    "dimension = 1\n",
    "encoding = \"one-hot\"\n",
    "n = num_qubits_per_dim(N, encoding)\n",
    "codewords = get_codewords_1d(n, encoding, periodic=False)\n",
    "bitstrings = get_bitstrings(N, dimension, encoding)\n",
    "\n",
    "T = 5\n",
    "r = 18\n",
    "a = 1\n",
    "b = -1/2\n",
    "\n",
    "num_time_points = 21\n",
    "t_vals = np.linspace(0, T, num_time_points)\n",
    "num_shots = 4000\n",
    "\n",
    "use_error_mitigation = True\n",
    "\n",
    "experiment_info = {\n",
    "    \"N\": N,\n",
    "    \"dimension\": dimension,\n",
    "    \"encoding\": encoding,\n",
    "    \"T\": T,\n",
    "    \"num_time_points\": num_time_points,\n",
    "    \"r\": r,\n",
    "    \"a\": a,\n",
    "    \"b\": b,\n",
    "    \"num_shots\": num_shots,\n",
    "    \"use_error_mitigation\": use_error_mitigation\n",
    "}\n",
    "\n",
    "hash_str = hashlib.md5(json.dumps(experiment_info).encode(\"utf-8\")).hexdigest()\n",
    "SAVE_DIR = join(CURR_DIR, hash_str)\n",
    "check_and_make_dir(SAVE_DIR)\n",
    "\n",
    "print(\"Save dir:\", SAVE_DIR)\n",
    "\n",
    "with open(join(SAVE_DIR, \"experiment_info.json\"), \"w\") as f:\n",
    "    json.dump(experiment_info, f)\n",
    "    f.close()\n",
    "\n",
    "for i in range(num_time_points):\n",
    "    if not exists(join(SAVE_DIR, f\"t_{i}\")):\n",
    "        mkdir(join(SAVE_DIR, f\"t_{i}\"))\n",
    "\n",
    "qpu_job_ids_filename_z = 'job_ids_qpu_z.json'\n",
    "qpu_job_ids_filename_x = 'job_ids_qpu_x.json'"
   ]
  },
  {
   "cell_type": "markdown",
   "metadata": {},
   "source": [
    "Check gate count"
   ]
  },
  {
   "cell_type": "code",
   "execution_count": 737,
   "metadata": {},
   "outputs": [
    {
     "name": "stdout",
     "output_type": "stream",
     "text": [
      "One qubit gates: 1\n",
      "Two qubit gates: 144\n"
     ]
    }
   ],
   "source": [
    "instructions = []\n",
    "# Initial state preparation: start from root node\n",
    "instructions.append(get_rx(np.pi, 0))\n",
    "instructions += get_fock_space_method_circuit(N, a, b, T, r, encoding)\n",
    "\n",
    "job = get_ionq_job_json(\"test\", N, dimension, num_shots, device, encoding, instructions)\n"
   ]
  },
  {
   "cell_type": "markdown",
   "metadata": {},
   "source": [
    "Submit tasks"
   ]
  },
  {
   "cell_type": "code",
   "execution_count": 738,
   "metadata": {},
   "outputs": [
    {
     "name": "stdout",
     "output_type": "stream",
     "text": [
      "Unitless time:  0.000\n",
      "One qubit gates: 1\n",
      "Two qubit gates: 0\n",
      "Job id: 295d94d2-3177-4431-8dc5-fc8147307142\n",
      "One qubit gates: 6\n",
      "Two qubit gates: 0\n",
      "Job id: 457c3d96-bb4f-4fbb-9e42-06134962ba02\n",
      "Saving IonQ job ids\n",
      "Unitless time:  0.250\n",
      "One qubit gates: 1\n",
      "Two qubit gates: 144\n",
      "Job id: 3f121435-4959-422d-8c0e-2bac5f58ae8e\n",
      "One qubit gates: 6\n",
      "Two qubit gates: 144\n",
      "Job id: 746ad3d8-3ed2-45f6-abb8-b96411f1ca81\n",
      "Saving IonQ job ids\n",
      "Unitless time:  0.500\n",
      "One qubit gates: 1\n",
      "Two qubit gates: 144\n",
      "Job id: ea244e67-fb50-43c8-b2de-4f3224858b12\n",
      "One qubit gates: 6\n",
      "Two qubit gates: 144\n",
      "Job id: f6b2b1e8-83b5-4691-944f-ccd324c21e19\n",
      "Saving IonQ job ids\n",
      "Unitless time:  0.750\n",
      "One qubit gates: 1\n",
      "Two qubit gates: 144\n",
      "Job id: 51370aeb-974c-4640-9e20-5f0d6b31c9c0\n",
      "One qubit gates: 6\n",
      "Two qubit gates: 144\n",
      "Job id: ce3f0454-5ec7-464d-a97a-40aa1b8d8119\n",
      "Saving IonQ job ids\n",
      "Unitless time:  1.000\n",
      "One qubit gates: 1\n",
      "Two qubit gates: 144\n",
      "Job id: 5032e4d6-095e-445a-9985-88ca0d05f218\n",
      "One qubit gates: 6\n",
      "Two qubit gates: 144\n",
      "Job id: 29764059-b2e7-46ec-a978-def7bc1c8ec5\n",
      "Saving IonQ job ids\n",
      "Unitless time:  1.250\n",
      "One qubit gates: 1\n",
      "Two qubit gates: 144\n",
      "Job id: 72efdc8b-befe-4a86-90a7-f765f424fa43\n",
      "One qubit gates: 6\n",
      "Two qubit gates: 144\n",
      "Job id: 517302d9-6d8c-4c16-9f9e-763af6a8c3a9\n",
      "Saving IonQ job ids\n",
      "Unitless time:  1.500\n",
      "One qubit gates: 1\n",
      "Two qubit gates: 144\n",
      "Job id: 5142cf25-0de4-44af-88ee-87d70ddd950e\n",
      "One qubit gates: 6\n",
      "Two qubit gates: 144\n",
      "Job id: 60fb07c0-fa3d-4afa-a881-eb1801e44398\n",
      "Saving IonQ job ids\n",
      "Unitless time:  1.750\n",
      "One qubit gates: 1\n",
      "Two qubit gates: 144\n",
      "Job id: be84b43e-3817-4bd7-b3c2-8f187fb15445\n",
      "One qubit gates: 6\n",
      "Two qubit gates: 144\n",
      "Job id: b78b0a5c-dae6-4ac5-932d-88926999def2\n",
      "Saving IonQ job ids\n",
      "Unitless time:  2.000\n",
      "One qubit gates: 1\n",
      "Two qubit gates: 144\n",
      "Job id: 593a9012-3f30-4256-9661-7afbe50d7822\n",
      "One qubit gates: 6\n",
      "Two qubit gates: 144\n",
      "Job id: 2449025d-25b3-45a3-9808-74b1c12148b4\n",
      "Saving IonQ job ids\n",
      "Unitless time:  2.250\n",
      "One qubit gates: 1\n",
      "Two qubit gates: 144\n",
      "Job id: 8d48b8ee-65f3-4009-90ff-c0e50a4c7058\n",
      "One qubit gates: 6\n",
      "Two qubit gates: 144\n",
      "Job id: 0ac37083-e495-412d-9f65-18a03e796d7b\n",
      "Saving IonQ job ids\n",
      "Unitless time:  2.500\n",
      "One qubit gates: 1\n",
      "Two qubit gates: 144\n",
      "Job id: 3c4c7cd2-a013-4a44-9b05-50ddd3697112\n",
      "One qubit gates: 6\n",
      "Two qubit gates: 144\n",
      "Job id: a0988de4-6e05-4c30-8ddc-86d7bf32716d\n",
      "Saving IonQ job ids\n",
      "Unitless time:  2.750\n",
      "One qubit gates: 1\n",
      "Two qubit gates: 144\n",
      "Job id: e1fc8b68-a87b-4c3f-b5b8-d8421ab11067\n",
      "One qubit gates: 6\n",
      "Two qubit gates: 144\n",
      "Job id: c2ae4617-4b86-4a2d-8b9a-14fde5925aa6\n",
      "Saving IonQ job ids\n",
      "Unitless time:  3.000\n",
      "One qubit gates: 1\n",
      "Two qubit gates: 144\n",
      "Job id: 57ca0bf8-2210-4017-b4bb-454b6f1b0c1d\n",
      "One qubit gates: 6\n",
      "Two qubit gates: 144\n",
      "Job id: 2d05804d-7d54-40f1-9b72-c980efcc024f\n",
      "Saving IonQ job ids\n",
      "Unitless time:  3.250\n",
      "One qubit gates: 1\n",
      "Two qubit gates: 144\n",
      "Job id: 4ea28741-76a0-486b-8fc5-029ff1cc22c5\n",
      "One qubit gates: 6\n",
      "Two qubit gates: 144\n",
      "Job id: 2c0cd844-b0e5-4dac-a0df-14d8e6760325\n",
      "Saving IonQ job ids\n",
      "Unitless time:  3.500\n",
      "One qubit gates: 1\n",
      "Two qubit gates: 144\n",
      "Job id: 2e80defc-ed99-4188-88ae-a94a157fda70\n",
      "One qubit gates: 6\n",
      "Two qubit gates: 144\n",
      "Job id: 4691fe5c-779b-436b-a416-11a71b6df144\n",
      "Saving IonQ job ids\n",
      "Unitless time:  3.750\n",
      "One qubit gates: 1\n",
      "Two qubit gates: 144\n",
      "Job id: f660b6fd-848e-4316-894f-5614d92ed655\n",
      "One qubit gates: 6\n",
      "Two qubit gates: 144\n",
      "Job id: dab97d6c-fdea-4b8d-87df-821864c9cf82\n",
      "Saving IonQ job ids\n",
      "Unitless time:  4.000\n",
      "One qubit gates: 1\n",
      "Two qubit gates: 144\n",
      "Job id: a5e893db-8af1-4164-812e-c2f5658ae185\n",
      "One qubit gates: 6\n",
      "Two qubit gates: 144\n",
      "Job id: 3beb1822-55ce-4b0b-b99d-52c851a9a3ce\n",
      "Saving IonQ job ids\n",
      "Unitless time:  4.250\n",
      "One qubit gates: 1\n",
      "Two qubit gates: 144\n",
      "Job id: ce8bba34-d60d-49ab-b650-ee0e572205df\n",
      "One qubit gates: 6\n",
      "Two qubit gates: 144\n",
      "Job id: ff6f20d8-6cc6-4444-bf76-44faa394584b\n",
      "Saving IonQ job ids\n",
      "Unitless time:  4.500\n",
      "One qubit gates: 1\n",
      "Two qubit gates: 144\n",
      "Job id: a457f2d8-e46c-409a-bed8-de451cc235a6\n",
      "One qubit gates: 6\n",
      "Two qubit gates: 144\n",
      "Job id: fb61d9a0-e124-401e-9dc0-d7fedd172628\n",
      "Saving IonQ job ids\n",
      "Unitless time:  4.750\n",
      "One qubit gates: 1\n",
      "Two qubit gates: 144\n",
      "Job id: e8af6f9e-94e5-488f-9ee5-be16bddb87c8\n",
      "One qubit gates: 6\n",
      "Two qubit gates: 144\n",
      "Job id: 355f207e-857b-4573-ab2d-08b4e709cd12\n",
      "Saving IonQ job ids\n",
      "Unitless time:  5.000\n",
      "One qubit gates: 1\n",
      "Two qubit gates: 144\n",
      "Job id: 3ae60570-79fc-41a0-bc79-8394ecade90e\n",
      "One qubit gates: 6\n",
      "Two qubit gates: 144\n",
      "Job id: 61e19332-6330-46e4-9bae-e48f6c062818\n",
      "Saving IonQ job ids\n"
     ]
    }
   ],
   "source": [
    "if use_real_machine:\n",
    "    run_fock_space_method(N, dimension, encoding, num_time_points, t_vals, \n",
    "                          TASK_DIR, r, a, b, num_shots, device, SAVE_DIR, \n",
    "                          use_real_machine, qpu_job_ids_filename_z, qpu_job_ids_filename_x)\n",
    "else:\n",
    "    sim_prob_z, sim_prob_x = run_fock_space_method(N, dimension, encoding, num_time_points, t_vals, \n",
    "                                                   TASK_DIR, r, a, b, num_shots, device, SAVE_DIR, \n",
    "                                                   use_real_machine, qpu_job_ids_filename_z, qpu_job_ids_filename_x)"
   ]
  },
  {
   "cell_type": "markdown",
   "metadata": {},
   "source": [
    "Get data from completed tasks"
   ]
  },
  {
   "cell_type": "code",
   "execution_count": 715,
   "metadata": {},
   "outputs": [],
   "source": [
    "def get_results_fock_space_method(N, job_ids_path, use_error_mitigation=False):\n",
    "    with open(job_ids_path, \"r\") as f:\n",
    "        job_ids = json.load(f)\n",
    "        f.close()\n",
    "\n",
    "    freq = np.zeros(2 ** N)\n",
    "    for job_id in job_ids:\n",
    "\n",
    "        freq += get_ionq_single_job_result(job_id, range(2 ** N), use_error_mitigation)\n",
    "\n",
    "    # Take the average\n",
    "    freq /= len(job_ids)\n",
    "\n",
    "    return freq"
   ]
  },
  {
   "cell_type": "code",
   "execution_count": 716,
   "metadata": {},
   "outputs": [
    {
     "ename": "FileNotFoundError",
     "evalue": "[Errno 2] No such file or directory: 'experiment_data/fock_space_method/5fd75fe770bc6545fc5533010b7eeab4/t_0/job_ids_qpu_z.json'",
     "output_type": "error",
     "traceback": [
      "\u001b[0;31m---------------------------------------------------------------------------\u001b[0m",
      "\u001b[0;31mFileNotFoundError\u001b[0m                         Traceback (most recent call last)",
      "Cell \u001b[0;32mIn[716], line 3\u001b[0m\n\u001b[1;32m      1\u001b[0m ionq_freq_z \u001b[39m=\u001b[39m []\n\u001b[1;32m      2\u001b[0m \u001b[39mfor\u001b[39;00m i \u001b[39min\u001b[39;00m \u001b[39mrange\u001b[39m(num_time_points):\n\u001b[0;32m----> 3\u001b[0m     ionq_freq_z\u001b[39m.\u001b[39mappend(get_results_fock_space_method(N, join(SAVE_DIR, \u001b[39mf\u001b[39;49m\u001b[39m\"\u001b[39;49m\u001b[39mt_\u001b[39;49m\u001b[39m{\u001b[39;49;00mi\u001b[39m}\u001b[39;49;00m\u001b[39m\"\u001b[39;49m, qpu_job_ids_filename_z)))\n\u001b[1;32m      5\u001b[0m ionq_freq_x \u001b[39m=\u001b[39m []\n\u001b[1;32m      6\u001b[0m \u001b[39mfor\u001b[39;00m i \u001b[39min\u001b[39;00m \u001b[39mrange\u001b[39m(num_time_points):\n",
      "Cell \u001b[0;32mIn[715], line 2\u001b[0m, in \u001b[0;36mget_results_fock_space_method\u001b[0;34m(N, job_ids_path, use_error_mitigation)\u001b[0m\n\u001b[1;32m      1\u001b[0m \u001b[39mdef\u001b[39;00m \u001b[39mget_results_fock_space_method\u001b[39m(N, job_ids_path, use_error_mitigation\u001b[39m=\u001b[39m\u001b[39mFalse\u001b[39;00m):\n\u001b[0;32m----> 2\u001b[0m     \u001b[39mwith\u001b[39;00m \u001b[39mopen\u001b[39;49m(job_ids_path, \u001b[39m\"\u001b[39;49m\u001b[39mr\u001b[39;49m\u001b[39m\"\u001b[39;49m) \u001b[39mas\u001b[39;00m f:\n\u001b[1;32m      3\u001b[0m         job_ids \u001b[39m=\u001b[39m json\u001b[39m.\u001b[39mload(f)\n\u001b[1;32m      4\u001b[0m         f\u001b[39m.\u001b[39mclose()\n",
      "File \u001b[0;32m~/anaconda3/lib/python3.10/site-packages/IPython/core/interactiveshell.py:284\u001b[0m, in \u001b[0;36m_modified_open\u001b[0;34m(file, *args, **kwargs)\u001b[0m\n\u001b[1;32m    277\u001b[0m \u001b[39mif\u001b[39;00m file \u001b[39min\u001b[39;00m {\u001b[39m0\u001b[39m, \u001b[39m1\u001b[39m, \u001b[39m2\u001b[39m}:\n\u001b[1;32m    278\u001b[0m     \u001b[39mraise\u001b[39;00m \u001b[39mValueError\u001b[39;00m(\n\u001b[1;32m    279\u001b[0m         \u001b[39mf\u001b[39m\u001b[39m\"\u001b[39m\u001b[39mIPython won\u001b[39m\u001b[39m'\u001b[39m\u001b[39mt let you open fd=\u001b[39m\u001b[39m{\u001b[39;00mfile\u001b[39m}\u001b[39;00m\u001b[39m by default \u001b[39m\u001b[39m\"\u001b[39m\n\u001b[1;32m    280\u001b[0m         \u001b[39m\"\u001b[39m\u001b[39mas it is likely to crash IPython. If you know what you are doing, \u001b[39m\u001b[39m\"\u001b[39m\n\u001b[1;32m    281\u001b[0m         \u001b[39m\"\u001b[39m\u001b[39myou can use builtins\u001b[39m\u001b[39m'\u001b[39m\u001b[39m open.\u001b[39m\u001b[39m\"\u001b[39m\n\u001b[1;32m    282\u001b[0m     )\n\u001b[0;32m--> 284\u001b[0m \u001b[39mreturn\u001b[39;00m io_open(file, \u001b[39m*\u001b[39;49margs, \u001b[39m*\u001b[39;49m\u001b[39m*\u001b[39;49mkwargs)\n",
      "\u001b[0;31mFileNotFoundError\u001b[0m: [Errno 2] No such file or directory: 'experiment_data/fock_space_method/5fd75fe770bc6545fc5533010b7eeab4/t_0/job_ids_qpu_z.json'"
     ]
    }
   ],
   "source": [
    "ionq_freq_z = []\n",
    "for i in range(num_time_points):\n",
    "    ionq_freq_z.append(get_results_fock_space_method(N, join(SAVE_DIR, f\"t_{i}\", qpu_job_ids_filename_z)))\n",
    "\n",
    "ionq_freq_x = []\n",
    "for i in range(num_time_points):\n",
    "    ionq_freq_x.append(get_results_fock_space_method(N, join(SAVE_DIR, f\"t_{i}\", qpu_job_ids_filename_x)))"
   ]
  },
  {
   "cell_type": "markdown",
   "metadata": {},
   "source": [
    "Post processing and figures"
   ]
  },
  {
   "cell_type": "code",
   "execution_count": 717,
   "metadata": {},
   "outputs": [],
   "source": [
    "# Observable for each computational basis state\n",
    "x_obs_vec = np.zeros(2 ** N)\n",
    "p2_obs_vec_x = np.zeros(2 ** N)\n",
    "p2_obs_vec_z = np.zeros(2 ** N)\n",
    "\n",
    "for i in range(2 ** N):\n",
    "    bitstring = np.binary_repr(i, N)[::-1]\n",
    "\n",
    "    for j in range(N-1):\n",
    "        if bitstring[j] == bitstring[j+1]:\n",
    "            x_obs_vec[i] += np.sqrt((j+1))\n",
    "        else:\n",
    "            x_obs_vec[i] -= np.sqrt((j+1))\n",
    "        \n",
    "    for j in range(N-2):\n",
    "        if bitstring[j] == bitstring[j+2]:\n",
    "            p2_obs_vec_x[i] += np.sqrt((j+1) * (j+2))\n",
    "        else:\n",
    "            p2_obs_vec_x[i] -= np.sqrt((j+1) * (j+2))\n",
    "    \n",
    "    for j in range(N):\n",
    "        if bitstring[j] == '1':\n",
    "            p2_obs_vec_z[i] += (j + 1/2)\n",
    "\n",
    "\n",
    "x_obs_vec /= np.sqrt(2)\n",
    "p2_obs_vec_x *= (-0.5)\n",
    "\n"
   ]
  },
  {
   "cell_type": "code",
   "execution_count": 718,
   "metadata": {},
   "outputs": [],
   "source": [
    "x_obs_sim = np.zeros(num_time_points)\n",
    "p2_obs_sim = np.zeros(num_time_points)\n",
    "\n",
    "# x_obs_ionq = np.zeros(num_time_points)\n",
    "# p2_obs_x_ionq = np.zeros(num_time_points)\n",
    "# p2_obs_z_ionq = np.zeros(num_time_points)\n",
    "# pos_observable_ionq = []\n",
    "for i in range(num_time_points):\n",
    "    x_obs_sim[i] = x_obs_vec @ sim_prob_x[i]\n",
    "    # x_obs_ionq[i] = x_obs_vec @ ionq_freq_x[i]\n",
    "\n",
    "    p2_obs_sim[i] = p2_obs_vec_x @ sim_prob_x[i] + (p2_obs_vec_z[codewords] @ sim_prob_z[i][codewords]) / np.sum(sim_prob_z[i][codewords])\n",
    "    # p2_obs_x_ionq[i] = p2_obs_vec_x @ ionq_freq_x[i]\n",
    "    # p2_obs_z_ionq[i] = (p2_obs_vec_z[codewords] @ ionq_freq_z[i][codewords]) / np.sum(ionq_freq_z[i][codewords])\n",
    "\n",
    "# p2_obs_ionq = p2_obs_x_ionq + p2_iobs_z_ionq"
   ]
  },
  {
   "cell_type": "code",
   "execution_count": 663,
   "metadata": {},
   "outputs": [
    {
     "ename": "NameError",
     "evalue": "name 'ionq_freq_x' is not defined",
     "output_type": "error",
     "traceback": [
      "\u001b[0;31m---------------------------------------------------------------------------\u001b[0m",
      "\u001b[0;31mNameError\u001b[0m                                 Traceback (most recent call last)",
      "Cell \u001b[0;32mIn[663], line 5\u001b[0m\n\u001b[1;32m      2\u001b[0m kinetic_energy_err \u001b[39m=\u001b[39m np\u001b[39m.\u001b[39mzeros(num_time_points)\n\u001b[1;32m      4\u001b[0m \u001b[39mfor\u001b[39;00m i \u001b[39min\u001b[39;00m \u001b[39mrange\u001b[39m(num_time_points):\n\u001b[0;32m----> 5\u001b[0m     x_obs_ionq_err[i] \u001b[39m=\u001b[39m np\u001b[39m.\u001b[39msqrt(ionq_freq_x[i] \u001b[39m@\u001b[39m (x_obs_vec \u001b[39m-\u001b[39m x_obs_ionq[i]) \u001b[39m*\u001b[39m\u001b[39m*\u001b[39m \u001b[39m2\u001b[39m \u001b[39m/\u001b[39m (M \u001b[39m*\u001b[39m num_shots \u001b[39m-\u001b[39m \u001b[39m1\u001b[39m))\n\u001b[1;32m      7\u001b[0m     \u001b[39m# Sqrt of variance of mean for XX observables plus Z observables\u001b[39;00m\n\u001b[1;32m      8\u001b[0m     kinetic_energy_err[i] \u001b[39m=\u001b[39m np\u001b[39m.\u001b[39msqrt(ionq_freq_x[i] \u001b[39m@\u001b[39m \u001b[39m0.5\u001b[39m \u001b[39m*\u001b[39m (p2_obs_vec_x \u001b[39m-\u001b[39m p2_obs_x_ionq[i]) \u001b[39m*\u001b[39m\u001b[39m*\u001b[39m \u001b[39m2\u001b[39m \u001b[39m/\u001b[39m (M \u001b[39m*\u001b[39m num_shots \u001b[39m-\u001b[39m \u001b[39m1\u001b[39m) \u001b[39m+\u001b[39m \\\n\u001b[1;32m      9\u001b[0m                                     ionq_freq_z[i][codewords] \u001b[39m@\u001b[39m \u001b[39m0.5\u001b[39m \u001b[39m*\u001b[39m (p2_obs_vec_z[codewords] \u001b[39m-\u001b[39m p2_obs_z_ionq[i]) \u001b[39m*\u001b[39m\u001b[39m*\u001b[39m \u001b[39m2\u001b[39m \u001b[39m/\u001b[39m (M \u001b[39m*\u001b[39m num_shots \u001b[39m-\u001b[39m \u001b[39m1\u001b[39m))\n",
      "\u001b[0;31mNameError\u001b[0m: name 'ionq_freq_x' is not defined"
     ]
    }
   ],
   "source": [
    "x_obs_ionq_err = np.zeros(num_time_points)\n",
    "kinetic_energy_err = np.zeros(num_time_points)\n",
    "\n",
    "for i in range(num_time_points):\n",
    "    x_obs_ionq_err[i] = np.sqrt(ionq_freq_x[i] @ (x_obs_vec - x_obs_ionq[i]) ** 2 / (M * num_shots - 1))\n",
    "\n",
    "    # Sqrt of variance of mean for XX observables plus Z observables\n",
    "    kinetic_energy_err[i] = np.sqrt(ionq_freq_x[i] @ 0.5 * (p2_obs_vec_x - p2_obs_x_ionq[i]) ** 2 / (M * num_shots - 1) + \\\n",
    "                                    ionq_freq_z[i][codewords] @ 0.5 * (p2_obs_vec_z[codewords] - p2_obs_z_ionq[i]) ** 2 / (M * num_shots - 1))\n"
   ]
  },
  {
   "cell_type": "code",
   "execution_count": 719,
   "metadata": {},
   "outputs": [],
   "source": [
    "def get_real_space_hamiltonian(N, a, b):\n",
    "    p_sq = sum_h_z(N, [-0.5 * (j+1/2) for j in range(N)])\n",
    "    J = np.zeros((N,N))\n",
    "    for i in range(N-2):\n",
    "        J[i, i+2] = -0.5 * np.sqrt((i+1)*(i+2))\n",
    "    p_sq += (sum_J_xx(N, J) + sum_J_yy(N, J)) / 2\n",
    "\n",
    "    J = np.zeros((N,N))\n",
    "    for i in range(N-1):\n",
    "        J[i, i+1] = np.sqrt((i+1))\n",
    "    f_linear = b * (1/np.sqrt(2)) * (sum_J_xx(N, J) + sum_J_yy(N, J)) / 2\n",
    "\n",
    "    J = np.zeros((N,N))\n",
    "    for i in range(N-2):\n",
    "        J[i, i+2] = 0.5 * np.sqrt((i+1)*(i+2))\n",
    "\n",
    "    f_quadratic = 0.5 * a * (sum_h_z(N, [-0.5 * (j+1/2) for j in range(N)]) + (sum_J_xx(N, J) + sum_J_yy(N, J)) / 2)\n",
    "\n",
    "    H = 0.5 * p_sq + f_linear + f_quadratic\n",
    "    return H"
   ]
  },
  {
   "cell_type": "code",
   "execution_count": 720,
   "metadata": {},
   "outputs": [],
   "source": [
    "H_simulator = get_real_space_hamiltonian(N, a, b)\n",
    "codewords = get_codewords_1d(n, encoding=encoding, periodic=False)"
   ]
  },
  {
   "cell_type": "code",
   "execution_count": 721,
   "metadata": {},
   "outputs": [],
   "source": [
    "psi_0 = np.zeros(2 ** N)\n",
    "psi_0[codewords[0]] = 1\n",
    "\n",
    "# Position observable\n",
    "J = np.zeros((N,N))\n",
    "for i in range(N-1):\n",
    "    J[i, i+1] = np.sqrt((i+1))\n",
    "x_hat = (1/np.sqrt(2)) * sum_J_xx(N, J)\n",
    "\n",
    "p_sq = sum_delta_n(N, [(j+1/2) for j in range(N)])\n",
    "J = np.zeros((N,N))\n",
    "for i in range(N-2):\n",
    "    J[i, i+2] = -0.5 * np.sqrt((i+1)*(i+2))\n",
    "p_sq += sum_J_xx(N, J)\n",
    "\n",
    "num_time_points_ideal = num_time_points\n",
    "psi = expm_multiply(-1j * H_simulator, psi_0, start=0, stop=T, num=num_time_points_ideal)"
   ]
  },
  {
   "cell_type": "code",
   "execution_count": 722,
   "metadata": {},
   "outputs": [],
   "source": [
    "x_obs_ham_ebd = np.zeros(num_time_points_ideal)\n",
    "p2_obs_ham_ebd = np.zeros(num_time_points_ideal)\n",
    "\n",
    "for i in range(num_time_points_ideal):\n",
    "    x_obs_ham_ebd[i] = (np.conj(psi[i]) @ x_hat @ psi[i]).real\n",
    "    p2_obs_ham_ebd[i] = (np.conj(psi[i]) @ p_sq @ psi[i]).real"
   ]
  },
  {
   "cell_type": "code",
   "execution_count": 723,
   "metadata": {},
   "outputs": [],
   "source": [
    "# Analytical solution\n",
    "expected_position_analytical = (b / a) * (np.cos(np.sqrt(a) * np.linspace(0, T, num_time_points_ideal)) - 1)"
   ]
  },
  {
   "cell_type": "code",
   "execution_count": 580,
   "metadata": {},
   "outputs": [],
   "source": [
    "# data = np.load(join(SAVE_DIR, \"data.npz\"))\n",
    "# expected_position_analytical = data[\"expected_position_analytical\"]\n",
    "# ionq_freq_z = data[\"ionq_freq_z\"]           # Relative frequency in z basis (all 2^5 states; 3000 shots total for each time point)\n",
    "# ionq_freq_x = data[\"ionq_freq_x\"]           # Relative frequency in x basis (all 2^5 states; 3000 shots total for each time point)\n",
    "# x_obs_ham_ebd = data[\"x_obs_ham_ebd\"]       # <\\hat{x}> for Hamiltonian embedding\n",
    "# x_obs_sim = data[\"x_obs_sim\"]               # <\\hat{x}> for circuit simulator\n",
    "# x_obs_ionq = data[\"x_obs_ionq\"]             # <\\hat{x}> for IonQ\n",
    "# x_obs_ionq_err = data[\"x_obs_ionq_err\"]     # Standard error for <\\hat{x}>; refer to notebook for calculation\n",
    "# p2_obs_ham_ebd = data[\"p2_obs_ham_ebd\"]     # <\\hat{p}^2> for Hamiltonian embedding\n",
    "# p2_obs_sim = data[\"p2_obs_sim\"]             # <\\hat{p}^2> for circuit simulator\n",
    "# p2_obs_ionq = data[\"p2_obs_ionq\"]"
   ]
  },
  {
   "cell_type": "code",
   "execution_count": 581,
   "metadata": {},
   "outputs": [],
   "source": [
    "# np.savez(join(SAVE_DIR, \"data.npz\"), \n",
    "#          expected_position_analytical=expected_position_analytical,\n",
    "#          ionq_freq_z=ionq_freq_z,           # Relative frequency in z basis (all 2^5 states; 3000 shots total for each time point)\n",
    "#          ionq_freq_x=ionq_freq_x,           # Relative frequency in x basis (all 2^5 states; 3000 shots total for each time point)\n",
    "#          x_obs_ham_ebd=x_obs_ham_ebd,       # <\\hat{x}> for Hamiltonian embedding\n",
    "#          x_obs_sim=x_obs_sim,               # <\\hat{x}> for circuit simulator\n",
    "#          x_obs_ionq=x_obs_ionq,             # <\\hat{x}> for IonQ\n",
    "#          x_obs_ionq_err=x_obs_ionq_err,     # Standard error for <\\hat{x}>; refer to notebook for calculation\n",
    "#          p2_obs_ham_ebd=p2_obs_ham_ebd,     # <\\hat{p}^2> for Hamiltonian embedding\n",
    "#          p2_obs_sim=p2_obs_sim,             # <\\hat{p}^2> for circuit simulator\n",
    "#          p2_obs_ionq=p2_obs_ionq)           # <\\hat{p}^2> for IonQ"
   ]
  },
  {
   "cell_type": "code",
   "execution_count": 724,
   "metadata": {},
   "outputs": [
    {
     "data": {
      "image/png": "[encoded data removed]",
      "text/plain": [
       "<Figure size 640x480 with 1 Axes>"
      ]
     },
     "metadata": {},
     "output_type": "display_data"
    }
   ],
   "source": [
    "\n",
    "plt.plot(np.linspace(0, T, num_time_points_ideal), expected_position_analytical, '-o', label=\"Analytical solution\")\n",
    "plt.plot(np.linspace(0, T, num_time_points_ideal), x_obs_ham_ebd, '-o', label=\"Hamiltonian embedding\")\n",
    "plt.plot(t_vals, x_obs_sim, '-o', label=\"Circuit simulator\")\n",
    "# plt.errorbar(t_vals, x_obs_ionq, x_obs_ionq_err, fmt='-o', label=\"IonQ\")\n",
    "plt.ylabel(\"Expected position\")\n",
    "plt.xlabel(\"Time\")\n",
    "plt.legend()\n",
    "plt.show()"
   ]
  },
  {
   "cell_type": "code",
   "execution_count": 725,
   "metadata": {},
   "outputs": [
    {
     "data": {
      "image/png": "[encoded data removed]",
      "text/plain": [
       "<Figure size 640x480 with 1 Axes>"
      ]
     },
     "metadata": {},
     "output_type": "display_data"
    }
   ],
   "source": [
    "plt.plot(np.linspace(0, T, num_time_points_ideal), 0.5 * p2_obs_ham_ebd, '-o', label=\"Hamiltonian embedding\")\n",
    "plt.plot(t_vals, 0.5 * p2_obs_sim, '-o', label=\"Circuit simulator\")\n",
    "# plt.errorbar(t_vals, 0.5 * p2_obs_ionq, kinetic_energy_err, fmt='-o', label=\"IonQ\")\n",
    "plt.ylabel(\"Expected kinetic energy\")\n",
    "plt.xlabel(\"Time\")\n",
    "plt.legend()\n",
    "plt.show()"
   ]
  },
  {
   "cell_type": "code",
   "execution_count": null,
   "metadata": {},
   "outputs": [],
   "source": []
  }
 ],
 "metadata": {
  "kernelspec": {
   "display_name": "Python 3 (ipykernel)",
   "language": "python",
   "name": "python3"
  },
  "language_info": {
   "codemirror_mode": {
    "name": "ipython",
    "version": 3
   },
   "file_extension": ".py",
   "mimetype": "text/x-python",
   "name": "python",
   "nbconvert_exporter": "python",
   "pygments_lexer": "ipython3",
   "version": "3.8.12"
  }
 },
 "nbformat": 4,
 "nbformat_minor": 2
}
